{
 "cells": [
  {
   "cell_type": "markdown",
   "id": "9c6faa57",
   "metadata": {},
   "source": [
    "# Create datasets of MI patient data\n",
    "\n",
    "**Objective: extract from the SPUM patient dataset meaningful information related to myocardial infraction (MI)**"
   ]
  },
  {
   "cell_type": "markdown",
   "id": "b39c5700",
   "metadata": {},
   "source": [
    "## 0.Init"
   ]
  },
  {
   "cell_type": "code",
   "execution_count": 1,
   "id": "4c0022a0",
   "metadata": {},
   "outputs": [],
   "source": [
    "# Libraries\n",
    "import pandas as pd\n",
    "import numpy as np\n",
    "import matplotlib.pyplot as plt\n",
    "import seaborn as sns"
   ]
  },
  {
   "cell_type": "code",
   "execution_count": 2,
   "id": "101d35f6",
   "metadata": {},
   "outputs": [],
   "source": [
    "# Constants\n",
    "PATH_TO_DATA = \"../../pocePatientData/spumDataMerged.csv\" # path to the original file\n",
    "SAVE_PATH = \"patient_mi_data/\"\n",
    "MAX_NB_DAYS_COMPICATION = 30 # max nb of days to consider a second MI just the complication of another one\n",
    "MAX_NB_DAYS_BTW_MI_AND_DEATH = 14 # maximum nb of days btw MI and death to consider MI related to death (check with doctor)"
   ]
  },
  {
   "cell_type": "markdown",
   "id": "2fee9707",
   "metadata": {},
   "source": [
    "## 1. Select columns of interest"
   ]
  },
  {
   "cell_type": "markdown",
   "id": "08ea30f5",
   "metadata": {},
   "source": [
    "### 1.1 Prediction features\n",
    "\n",
    "Only take a subset of meaningful features, selected from the email of a doctor (Thabo):\n",
    "\n",
    "I can get you going with the parameters to include in the model. In short, in cardiology there are several clinical parameters that we know are correlated with bad outcomes (baseline cardiovascular risk factors and then clinical factors during the hospitalisation that are also predictive). Here's a list with the parameter names in the SPUM sheet:\n",
    "\n",
    "CV risk factors :\n",
    "- Age: age\n",
    "- Sex: sex\n",
    "- Hypertension: hypertension_hist\n",
    "- Diabetes: diabetes_hist\n",
    "- Hypercholesterolaemia: cholesterolemia_hist\n",
    "- Previous cardiovascular disease (MI, stroke, peripheral arterial disease): prev_CVD\n",
    "- Smoking: smoking_bln\n",
    "- Obesity/BMI: bmi\n",
    "\n",
    "Clinical factors:\n",
    "- LVEF (left ventricular ejection fraction i.e. how well the heart is pumping): *lvef_comb*\n",
    "- Killip class (stage of heart failure on examination - graded 1 to 4 with higher being worse): chf_code_proc\n",
    "- Cardiac arrest (did the heart ever stop during the admission): resuscitation \n",
    "- Grace score (a risk score that is derived from several risk clinical parameters that is known to predict mortality after an MI): grace_calc\n",
    "- Kidney function: eGFR_bln"
   ]
  },
  {
   "cell_type": "code",
   "execution_count": 3,
   "id": "db770865",
   "metadata": {},
   "outputs": [],
   "source": [
    "cv_risk_factor_l = [\"age\", \"sex\", \"hypertension_hist\", \"diabetes_hist\", \"cholesterolemia_hist\", \"prev_CVD\", \"smoking_bln\", \n",
    "                    \"bmi\"]\n",
    "clincial_factor_l = [\"lvef_comb\", \"chf_code_proc\", \"resuscitation\", \"grace_calc\", \"eGFR_bln\"]"
   ]
  },
  {
   "cell_type": "markdown",
   "id": "9b903752",
   "metadata": {},
   "source": [
    "### 1.2 Targets\n",
    "\n",
    "The objective may be to predict if there will be another MI, if the patient will need a revascularisation or if he/she will die"
   ]
  },
  {
   "cell_type": "code",
   "execution_count": 4,
   "id": "b7318bec",
   "metadata": {},
   "outputs": [],
   "source": [
    "mi_information_l = [\"mi_1\", \"mi_2\", \"mi_3\", \"mi_4\"]\n",
    "death_information_l = [\"death.x\"]\n",
    "revasc_information_l = [\"revasc_1\", \"revasc_2\", \"revasc_3\", \"revasc_4\", \"revasc_5\", \"revasc_6\"]"
   ]
  },
  {
   "cell_type": "markdown",
   "id": "7d8ba676",
   "metadata": {},
   "source": [
    "### 1.3 Time to target event\n",
    "\n",
    "For future application, the time until a target event may be a useful information. \n",
    "\n",
    "It is also used to exclude events that are related to the original MI and are not a new MI. \n",
    "\n",
    "From the doctor (Thabo): The time interval to MI is \"time_to_mi_1\", the \"1\" is because some patients have more than one MI. It may be necessary to exclude the MIs that occurred in the first 30 days as it is likely that these were linked to the stent put in for the first MI (stent thrombosis)."
   ]
  },
  {
   "cell_type": "code",
   "execution_count": 5,
   "id": "7e2304ce",
   "metadata": {},
   "outputs": [],
   "source": [
    "time_information_l = [\"time_to_mi_1\", \"time_to_mi_2\", \"time_to_mi_3\", \"time_to_mi_4\",\n",
    "                      \"time_to_death\", \n",
    "                      \"time_to_revasc_1\", \"time_to_revasc_2\", \"time_to_revasc_3\", \n",
    "                      \"time_to_Revasc_4\", \"time_to_revas_5\" , \"time_to_revasc_6\"]"
   ]
  },
  {
   "cell_type": "markdown",
   "id": "ddec1a1d",
   "metadata": {},
   "source": [
    "### 1.4 Other information\n",
    "\n",
    "sjid: id of the patient"
   ]
  },
  {
   "cell_type": "code",
   "execution_count": 6,
   "id": "ec04262a",
   "metadata": {},
   "outputs": [],
   "source": [
    "patient_information_l = [\"sjid\"] "
   ]
  },
  {
   "cell_type": "markdown",
   "id": "86e07540",
   "metadata": {},
   "source": [
    "### 1.5 Gather all"
   ]
  },
  {
   "cell_type": "code",
   "execution_count": 7,
   "id": "f70cacaf",
   "metadata": {},
   "outputs": [],
   "source": [
    "all_columns = cv_risk_factor_l + clincial_factor_l + mi_information_l + \\\n",
    "              death_information_l + revasc_information_l + time_information_l + patient_information_l"
   ]
  },
  {
   "cell_type": "markdown",
   "id": "61530723",
   "metadata": {},
   "source": [
    "## 2. Load and clean the data"
   ]
  },
  {
   "cell_type": "markdown",
   "id": "ed9c2580",
   "metadata": {},
   "source": [
    "### 2.1 Create the df"
   ]
  },
  {
   "cell_type": "code",
   "execution_count": 8,
   "id": "2d82f2f8",
   "metadata": {},
   "outputs": [
    {
     "name": "stdout",
     "output_type": "stream",
     "text": [
      "Nb of entries: 984\n"
     ]
    },
    {
     "data": {
      "text/html": [
       "<div>\n",
       "<style scoped>\n",
       "    .dataframe tbody tr th:only-of-type {\n",
       "        vertical-align: middle;\n",
       "    }\n",
       "\n",
       "    .dataframe tbody tr th {\n",
       "        vertical-align: top;\n",
       "    }\n",
       "\n",
       "    .dataframe thead th {\n",
       "        text-align: right;\n",
       "    }\n",
       "</style>\n",
       "<table border=\"1\" class=\"dataframe\">\n",
       "  <thead>\n",
       "    <tr style=\"text-align: right;\">\n",
       "      <th></th>\n",
       "      <th>death.x</th>\n",
       "      <th>time_to_death</th>\n",
       "      <th>mi_1</th>\n",
       "      <th>mi_2</th>\n",
       "      <th>mi_3</th>\n",
       "      <th>mi_4</th>\n",
       "      <th>time_to_mi_1</th>\n",
       "      <th>time_to_mi_2</th>\n",
       "      <th>time_to_mi_3</th>\n",
       "      <th>time_to_mi_4</th>\n",
       "      <th>...</th>\n",
       "      <th>diabetes_hist</th>\n",
       "      <th>smoking_bln</th>\n",
       "      <th>hypertension_hist</th>\n",
       "      <th>cholesterolemia_hist</th>\n",
       "      <th>prev_CVD</th>\n",
       "      <th>eGFR_bln</th>\n",
       "      <th>resuscitation</th>\n",
       "      <th>chf_code_proc</th>\n",
       "      <th>lvef_comb</th>\n",
       "      <th>grace_calc</th>\n",
       "    </tr>\n",
       "    <tr>\n",
       "      <th>sjid</th>\n",
       "      <th></th>\n",
       "      <th></th>\n",
       "      <th></th>\n",
       "      <th></th>\n",
       "      <th></th>\n",
       "      <th></th>\n",
       "      <th></th>\n",
       "      <th></th>\n",
       "      <th></th>\n",
       "      <th></th>\n",
       "      <th></th>\n",
       "      <th></th>\n",
       "      <th></th>\n",
       "      <th></th>\n",
       "      <th></th>\n",
       "      <th></th>\n",
       "      <th></th>\n",
       "      <th></th>\n",
       "      <th></th>\n",
       "      <th></th>\n",
       "      <th></th>\n",
       "    </tr>\n",
       "  </thead>\n",
       "  <tbody>\n",
       "    <tr>\n",
       "      <th>003-529-877</th>\n",
       "      <td>NaN</td>\n",
       "      <td>NaN</td>\n",
       "      <td>NaN</td>\n",
       "      <td>NaN</td>\n",
       "      <td>NaN</td>\n",
       "      <td>NaN</td>\n",
       "      <td>NaN</td>\n",
       "      <td>NaN</td>\n",
       "      <td>NaN</td>\n",
       "      <td>NaN</td>\n",
       "      <td>...</td>\n",
       "      <td>0</td>\n",
       "      <td>1</td>\n",
       "      <td>1</td>\n",
       "      <td>1.0</td>\n",
       "      <td>0</td>\n",
       "      <td>72.170715</td>\n",
       "      <td>0.0</td>\n",
       "      <td>1.0</td>\n",
       "      <td>NaN</td>\n",
       "      <td>118.0</td>\n",
       "    </tr>\n",
       "    <tr>\n",
       "      <th>003-551-891</th>\n",
       "      <td>NaN</td>\n",
       "      <td>NaN</td>\n",
       "      <td>NaN</td>\n",
       "      <td>NaN</td>\n",
       "      <td>NaN</td>\n",
       "      <td>NaN</td>\n",
       "      <td>NaN</td>\n",
       "      <td>NaN</td>\n",
       "      <td>NaN</td>\n",
       "      <td>NaN</td>\n",
       "      <td>...</td>\n",
       "      <td>0</td>\n",
       "      <td>3</td>\n",
       "      <td>0</td>\n",
       "      <td>0.0</td>\n",
       "      <td>0</td>\n",
       "      <td>85.532219</td>\n",
       "      <td>0.0</td>\n",
       "      <td>1.0</td>\n",
       "      <td>65.0</td>\n",
       "      <td>154.0</td>\n",
       "    </tr>\n",
       "    <tr>\n",
       "      <th>003-648-529</th>\n",
       "      <td>NaN</td>\n",
       "      <td>NaN</td>\n",
       "      <td>NaN</td>\n",
       "      <td>NaN</td>\n",
       "      <td>NaN</td>\n",
       "      <td>NaN</td>\n",
       "      <td>NaN</td>\n",
       "      <td>NaN</td>\n",
       "      <td>NaN</td>\n",
       "      <td>NaN</td>\n",
       "      <td>...</td>\n",
       "      <td>0</td>\n",
       "      <td>1</td>\n",
       "      <td>0</td>\n",
       "      <td>1.0</td>\n",
       "      <td>1</td>\n",
       "      <td>80.782486</td>\n",
       "      <td>0.0</td>\n",
       "      <td>1.0</td>\n",
       "      <td>NaN</td>\n",
       "      <td>129.0</td>\n",
       "    </tr>\n",
       "    <tr>\n",
       "      <th>005-251-825</th>\n",
       "      <td>NaN</td>\n",
       "      <td>NaN</td>\n",
       "      <td>NaN</td>\n",
       "      <td>NaN</td>\n",
       "      <td>NaN</td>\n",
       "      <td>NaN</td>\n",
       "      <td>NaN</td>\n",
       "      <td>NaN</td>\n",
       "      <td>NaN</td>\n",
       "      <td>NaN</td>\n",
       "      <td>...</td>\n",
       "      <td>0</td>\n",
       "      <td>3</td>\n",
       "      <td>0</td>\n",
       "      <td>1.0</td>\n",
       "      <td>0</td>\n",
       "      <td>105.978470</td>\n",
       "      <td>0.0</td>\n",
       "      <td>1.0</td>\n",
       "      <td>45.0</td>\n",
       "      <td>135.0</td>\n",
       "    </tr>\n",
       "    <tr>\n",
       "      <th>005-561-090</th>\n",
       "      <td>NaN</td>\n",
       "      <td>NaN</td>\n",
       "      <td>NaN</td>\n",
       "      <td>NaN</td>\n",
       "      <td>NaN</td>\n",
       "      <td>NaN</td>\n",
       "      <td>NaN</td>\n",
       "      <td>NaN</td>\n",
       "      <td>NaN</td>\n",
       "      <td>NaN</td>\n",
       "      <td>...</td>\n",
       "      <td>0</td>\n",
       "      <td>2</td>\n",
       "      <td>1</td>\n",
       "      <td>1.0</td>\n",
       "      <td>0</td>\n",
       "      <td>52.820919</td>\n",
       "      <td>0.0</td>\n",
       "      <td>1.0</td>\n",
       "      <td>50.0</td>\n",
       "      <td>164.0</td>\n",
       "    </tr>\n",
       "  </tbody>\n",
       "</table>\n",
       "<p>5 rows × 35 columns</p>\n",
       "</div>"
      ],
      "text/plain": [
       "             death.x  time_to_death  mi_1  mi_2  mi_3  mi_4  time_to_mi_1  \\\n",
       "sjid                                                                        \n",
       "003-529-877      NaN            NaN   NaN   NaN   NaN   NaN           NaN   \n",
       "003-551-891      NaN            NaN   NaN   NaN   NaN   NaN           NaN   \n",
       "003-648-529      NaN            NaN   NaN   NaN   NaN   NaN           NaN   \n",
       "005-251-825      NaN            NaN   NaN   NaN   NaN   NaN           NaN   \n",
       "005-561-090      NaN            NaN   NaN   NaN   NaN   NaN           NaN   \n",
       "\n",
       "             time_to_mi_2  time_to_mi_3  time_to_mi_4  ...  diabetes_hist  \\\n",
       "sjid                                                   ...                  \n",
       "003-529-877           NaN           NaN           NaN  ...              0   \n",
       "003-551-891           NaN           NaN           NaN  ...              0   \n",
       "003-648-529           NaN           NaN           NaN  ...              0   \n",
       "005-251-825           NaN           NaN           NaN  ...              0   \n",
       "005-561-090           NaN           NaN           NaN  ...              0   \n",
       "\n",
       "             smoking_bln  hypertension_hist  cholesterolemia_hist  prev_CVD  \\\n",
       "sjid                                                                          \n",
       "003-529-877            1                  1                   1.0         0   \n",
       "003-551-891            3                  0                   0.0         0   \n",
       "003-648-529            1                  0                   1.0         1   \n",
       "005-251-825            3                  0                   1.0         0   \n",
       "005-561-090            2                  1                   1.0         0   \n",
       "\n",
       "               eGFR_bln  resuscitation  chf_code_proc  lvef_comb  grace_calc  \n",
       "sjid                                                                          \n",
       "003-529-877   72.170715            0.0            1.0        NaN       118.0  \n",
       "003-551-891   85.532219            0.0            1.0       65.0       154.0  \n",
       "003-648-529   80.782486            0.0            1.0        NaN       129.0  \n",
       "005-251-825  105.978470            0.0            1.0       45.0       135.0  \n",
       "005-561-090   52.820919            0.0            1.0       50.0       164.0  \n",
       "\n",
       "[5 rows x 35 columns]"
      ]
     },
     "execution_count": 8,
     "metadata": {},
     "output_type": "execute_result"
    }
   ],
   "source": [
    "df = pd.read_csv(PATH_TO_DATA, usecols=all_columns)\n",
    "df = df.set_index(\"sjid\")\n",
    "df = df.rename(columns={\"time_to_Revasc_4\": \"time_to_revasc_4\", \"time_to_revas_5\": \"time_to_revasc_5\"})\n",
    "\n",
    "print(\"Nb of entries: {}\".format(len(df)))\n",
    "df.head(5)"
   ]
  },
  {
   "cell_type": "markdown",
   "id": "853efbbc",
   "metadata": {},
   "source": [
    "### 2.2 Replace NaN for non occured events\n",
    "\n",
    "Some column contain Nan when the event just not occured"
   ]
  },
  {
   "cell_type": "code",
   "execution_count": 9,
   "id": "2a2c3e06",
   "metadata": {
    "scrolled": true
   },
   "outputs": [],
   "source": [
    "for i in range(1,5):\n",
    "    df[\"mi_\"+str(i)] = df[\"mi_\"+str(i)].fillna(0)\n",
    "    df[\"time_to_mi_\"+str(i)] = df[\"time_to_mi_\"+str(i)].fillna(0)\n",
    "\n",
    "for i in range(1,7):\n",
    "    df[\"revasc_\"+str(i)] = df[\"revasc_\"+str(i)].fillna(0)\n",
    "    df[\"time_to_revasc_\"+str(i)] = df[\"time_to_revasc_\"+str(i)].fillna(0)\n",
    "\n",
    "df[\"death.x\"] = df[\"death.x\"].fillna(0)\n",
    "df[\"time_to_death\"] = df[\"time_to_death\"].fillna(0)"
   ]
  },
  {
   "cell_type": "markdown",
   "id": "8ef191a8",
   "metadata": {},
   "source": [
    "## 3. Create correct labels \n",
    "\n",
    "Only consider labels if occured at least 30 days after (else, could be related to the original MI). If never happened will be replace time by -1"
   ]
  },
  {
   "cell_type": "markdown",
   "id": "92f8de12",
   "metadata": {},
   "source": [
    "### 3.1 Death event and time to death\n",
    "\n",
    "Only consider deaths that are related to MI (and not to the first one)\n",
    "\n",
    "<span style=\"color:red\">We consider death related to MI if death occured 14 days after MI. Need to check with a doctor this assumption</span>"
   ]
  },
  {
   "cell_type": "code",
   "execution_count": 11,
   "id": "813e8a08",
   "metadata": {},
   "outputs": [],
   "source": [
    "df[\"death_mi\"] = False\n",
    "\n",
    "for i in range(1,5):\n",
    "    # Only consider the deathes that happened in the next two weeks after the previous one\n",
    "    df[\"death_mi\"] = df[\"death_mi\"] | ( \n",
    "                    (df[\"time_to_death\"] - df[\"time_to_mi_\"+str(i)]) <= MAX_NB_DAYS_BTW_MI_AND_DEATH)\n",
    "\n",
    "# Remove deathes related to first MI\n",
    "df[\"death_mi\"] = (df[\"death_mi\"]) & (df[\"time_to_death\"]>MAX_NB_DAYS_COMPICATION)\n",
    "\n",
    "# Check that the person really died (in theory useless if time correctly indicated in the file)\n",
    "df[\"death_mi\"] = df[\"death_mi\"] & df[\"death_mi\"]\n",
    "\n",
    "# Correct time to death\n",
    "df[\"time_to_death_mi\"] = -1\n",
    "df.loc[df[\"death_mi\"] ,\"time_to_death\"] = df[\"time_to_death\"]"
   ]
  },
  {
   "cell_type": "markdown",
   "id": "8c9e51c0",
   "metadata": {},
   "source": [
    "### 3.2 MI event and time to MI"
   ]
  },
  {
   "cell_type": "code",
   "execution_count": 12,
   "id": "84baad6d",
   "metadata": {
    "scrolled": true
   },
   "outputs": [],
   "source": [
    "# Only consider the MI that occured more than 30 days after the last MI\n",
    "for i in range(1,5):\n",
    "    if i>1:\n",
    "        nb_days_last_mi = df[\"time_to_mi_\"+str(i)] - df[\"time_to_mi_\"+str(i-1)]\n",
    "    else:\n",
    "        nb_days_last_mi = df[\"time_to_mi_\"+str(i)]  \n",
    "    df[\"mi_\"+str(i)] = (nb_days_last_mi > MAX_NB_DAYS_COMPICATION) & (df[\"mi_\"+str(i)] == 1.0)\n",
    "    \n",
    "# Consider MI if one of the MI is validated\n",
    "df[\"mi\"] = df[\"mi_1\"] | df[\"mi_2\"] | df[\"mi_3\"] | df[\"mi_4\"]\n",
    "df[\"nb_mi\"] = df[\"mi_1\"].astype(int) + df[\"mi_2\"].astype(int) + df[\"mi_3\"].astype(int) + df[\"mi_4\"].astype(int)\n",
    "\n",
    "# Take the lowest time of valid mi\n",
    "df[\"time_to_mi\"] = np.inf\n",
    "for i in range(1,5):\n",
    "    mask = df[\"mi_\"+str(i)] & (df[\"time_to_mi_\"+str(i)]<df[\"time_to_mi\"])\n",
    "    df.loc[mask, \"time_to_mi\"] = df[\"time_to_mi_\"+str(i)]\n",
    "df.loc[df[\"time_to_mi\"]==np.inf, \"time_to_mi\"] = -1"
   ]
  },
  {
   "cell_type": "markdown",
   "id": "6d5870f5",
   "metadata": {},
   "source": [
    "### 3.3 Revascularisation event and time to revascularisation"
   ]
  },
  {
   "cell_type": "code",
   "execution_count": 13,
   "id": "7891cb6d",
   "metadata": {},
   "outputs": [],
   "source": [
    "# Only consider the revascularisation that occured more than 30 days after the first valid MI\n",
    "for i in range(1,7):\n",
    "    nb_days_from_first_mi = df[\"time_to_revasc_\"+str(i)] - df[\"time_to_mi\"]\n",
    "    df[\"revasc_\"+str(i)] = (nb_days_from_first_mi > MAX_NB_DAYS_COMPICATION) & (df[\"revasc_\"+str(i)] == 1.0) \n",
    "    \n",
    "# Consider revasc if one of the revasc is validated\n",
    "df[\"revasc\"] = df[\"revasc_1\"] | df[\"revasc_2\"] | df[\"revasc_3\"] | df[\"revasc_4\"] | df[\"revasc_5\"] | df[\"revasc_6\"]\n",
    "df[\"nb_revasc\"] = df[\"revasc_1\"].astype(int) + df[\"revasc_2\"].astype(int) + df[\"revasc_3\"].astype(int) + \\\n",
    "                  df[\"revasc_4\"].astype(int) + df[\"revasc_5\"].astype(int) + df[\"revasc_6\"].astype(int)\n",
    "\n",
    "# Take the lowest time of valid mi\n",
    "df[\"time_to_revasc\"] = np.inf\n",
    "for i in range(1,7):\n",
    "    mask = df[\"revasc_\"+str(i)] & (df[\"time_to_revasc_\"+str(i)]<df[\"time_to_revasc\"])\n",
    "    df.loc[mask, \"time_to_revasc\"] = df[\"time_to_revasc_\"+str(i)]\n",
    "df.loc[df[\"time_to_revasc\"]==np.inf, \"time_to_revasc\"] = -1"
   ]
  },
  {
   "cell_type": "markdown",
   "id": "941f926c",
   "metadata": {},
   "source": [
    "## 4. Remove used features"
   ]
  },
  {
   "cell_type": "code",
   "execution_count": 14,
   "id": "c6b63892",
   "metadata": {},
   "outputs": [],
   "source": [
    "df = df.drop(columns=[\"revasc_1\", \"revasc_2\", \"revasc_3\", \"revasc_4\", \"revasc_5\", \"revasc_6\", \n",
    "                      \"time_to_revasc_1\", \"time_to_revasc_2\", \"time_to_revasc_3\", \n",
    "                      \"time_to_revasc_4\", \"time_to_revasc_5\", \"time_to_revasc_6\", \n",
    "                      \"mi_1\", \"mi_2\", \"mi_3\", \"mi_4\",\n",
    "                      \"time_to_mi_1\", \"time_to_mi_2\", \"time_to_mi_3\", \"time_to_mi_4\",\n",
    "                      \"death.x\", \"time_to_death\"])"
   ]
  },
  {
   "cell_type": "markdown",
   "id": "8c4eb970",
   "metadata": {},
   "source": [
    "## 5. Save datasets"
   ]
  },
  {
   "cell_type": "markdown",
   "id": "9e82e17c",
   "metadata": {},
   "source": [
    "### 5.1 Raw data"
   ]
  },
  {
   "cell_type": "code",
   "execution_count": 15,
   "id": "aece893e",
   "metadata": {},
   "outputs": [],
   "source": [
    "# Force all categories to go from 0 to N\n",
    "df[\"sex\"] -= 1\n",
    "df[\"smoking_bln\"] -= 1\n",
    "df[\"chf_code_proc\"] -= 1\n",
    "\n",
    "# Save\n",
    "df.to_csv(SAVE_PATH+\"full_mi_patient_data.csv\")\n",
    "df.to_excel(SAVE_PATH+\"full_mi_patient_data.xlsx\")"
   ]
  },
  {
   "cell_type": "markdown",
   "id": "c341fddc",
   "metadata": {},
   "source": [
    "### 5.2 NaN filled\n",
    "\n",
    "For categorical, filled with most frequent, for continuous with median"
   ]
  },
  {
   "cell_type": "code",
   "execution_count": 16,
   "id": "2f4ac7d6",
   "metadata": {},
   "outputs": [],
   "source": [
    "df_no_na = df.copy()"
   ]
  },
  {
   "cell_type": "code",
   "execution_count": 17,
   "id": "20d03d90",
   "metadata": {},
   "outputs": [
    {
     "name": "stdout",
     "output_type": "stream",
     "text": [
      "Nb of non valid values for bmi is 3\n",
      "Nb of non valid values for cholesterolemia_hist is 1\n",
      "Nb of non valid values for eGFR_bln is 31\n",
      "Nb of non valid values for resuscitation is 3\n",
      "Nb of non valid values for chf_code_proc is 10\n",
      "Nb of non valid values for lvef_comb is 214\n",
      "Nb of non valid values for grace_calc is 82\n"
     ]
    }
   ],
   "source": [
    "for col in df_no_na:\n",
    "    nb_nan = df_no_na[col].isna().sum()\n",
    "    if nb_nan != 0:\n",
    "        print(\"Nb of non valid values for {} is {}\".format(col, nb_nan))"
   ]
  },
  {
   "cell_type": "code",
   "execution_count": 18,
   "id": "9e501faf",
   "metadata": {},
   "outputs": [],
   "source": [
    "# Categorical data filled with most frequent\n",
    "df_no_na[\"cholesterolemia_hist\"] = df_no_na[\"cholesterolemia_hist\"].fillna(\n",
    "    df_no_na[\"cholesterolemia_hist\"].value_counts().argmax())\n",
    "df_no_na[\"resuscitation\"] = df_no_na[\"resuscitation\"].fillna(\n",
    "    df_no_na[\"resuscitation\"].value_counts().argmax())\n",
    "df_no_na[\"chf_code_proc\"] = df_no_na[\"chf_code_proc\"].fillna(\n",
    "    df_no_na[\"chf_code_proc\"].value_counts().argmax())\n",
    "\n",
    "# Continous data filled with median\n",
    "df_no_na[\"bmi\"] = df_no_na[\"bmi\"].fillna(df_no_na[\"bmi\"].median())\n",
    "df_no_na[\"eGFR_bln\"] = df_no_na[\"eGFR_bln\"].fillna(df_no_na[\"eGFR_bln\"].median())\n",
    "df_no_na[\"grace_calc\"] = df_no_na[\"grace_calc\"].fillna(df_no_na[\"grace_calc\"].median())\n",
    "df_no_na[\"lvef_comb\"] = df_no_na[\"lvef_comb\"].fillna(df_no_na[\"lvef_comb\"].median())"
   ]
  },
  {
   "cell_type": "code",
   "execution_count": 19,
   "id": "bbb5865b",
   "metadata": {},
   "outputs": [],
   "source": [
    "for col in df_no_na:\n",
    "    nb_nan = df_no_na[col].isna().sum()\n",
    "    if nb_nan != 0:\n",
    "        print(\"Nb of non valid values for {} is {}\".format(col, nb_nan))"
   ]
  },
  {
   "cell_type": "code",
   "execution_count": 20,
   "id": "43a011b8",
   "metadata": {},
   "outputs": [],
   "source": [
    "df_no_na.to_csv(SAVE_PATH+\"full_mi_patient_data_no_na.csv\")\n",
    "df_no_na.to_excel(SAVE_PATH+\"full_mi_patient_data_no_na.xlsx\")"
   ]
  },
  {
   "cell_type": "markdown",
   "id": "26c62429",
   "metadata": {},
   "source": [
    "----"
   ]
  }
 ],
 "metadata": {
  "kernelspec": {
   "display_name": "Python 3 (ipykernel)",
   "language": "python",
   "name": "python3"
  },
  "language_info": {
   "codemirror_mode": {
    "name": "ipython",
    "version": 3
   },
   "file_extension": ".py",
   "mimetype": "text/x-python",
   "name": "python",
   "nbconvert_exporter": "python",
   "pygments_lexer": "ipython3",
   "version": "3.10.4"
  }
 },
 "nbformat": 4,
 "nbformat_minor": 5
}
