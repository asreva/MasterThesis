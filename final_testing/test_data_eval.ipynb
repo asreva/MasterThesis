{
 "cells": [
  {
   "cell_type": "markdown",
   "id": "ad121741",
   "metadata": {},
   "source": [
    "# Create a folder with the images of the testing dataset"
   ]
  },
  {
   "cell_type": "code",
   "execution_count": 61,
   "id": "08a1e4e2",
   "metadata": {},
   "outputs": [],
   "source": [
    "import pandas as pd\n",
    "df_sjd = pd.read_csv(\"csv_with_infos/df_patient_names_to_sjid.csv\", index_col=0)"
   ]
  },
  {
   "cell_type": "code",
   "execution_count": 68,
   "id": "f74be683",
   "metadata": {},
   "outputs": [
    {
     "data": {
      "text/plain": [
       "patient_sjid    182-608-594\n",
       "Name: patient9, dtype: object"
      ]
     },
     "execution_count": 68,
     "metadata": {},
     "output_type": "execute_result"
    }
   ],
   "source": [
    "df_sjd.loc[\"patient9\"]"
   ]
  },
  {
   "cell_type": "code",
   "execution_count": 8,
   "id": "ab39e06c",
   "metadata": {},
   "outputs": [],
   "source": [
    "import os\n",
    "import pandas as pd\n",
    "import numpy as np\n",
    "\n",
    "import matplotlib.pyplot as plt\n",
    "\n",
    "from sklearn.metrics import f1_score\n",
    "from sklearn.metrics import accuracy_score\n",
    "from sklearn.metrics import recall_score\n",
    "from sklearn.metrics import precision_score\n",
    "from sklearn.metrics import roc_auc_score"
   ]
  },
  {
   "cell_type": "markdown",
   "id": "e0bb1076",
   "metadata": {},
   "source": [
    "## Create the df (old, should be updated for the correct paths)"
   ]
  },
  {
   "cell_type": "code",
   "execution_count": 1,
   "id": "618067a0",
   "metadata": {},
   "outputs": [
    {
     "ename": "NameError",
     "evalue": "name 'pd' is not defined",
     "output_type": "error",
     "traceback": [
      "\u001b[0;31m---------------------------------------------------------------------------\u001b[0m",
      "\u001b[0;31mNameError\u001b[0m                                 Traceback (most recent call last)",
      "Input \u001b[0;32mIn [1]\u001b[0m, in \u001b[0;36m<cell line: 1>\u001b[0;34m()\u001b[0m\n\u001b[0;32m----> 1\u001b[0m test_df \u001b[38;5;241m=\u001b[39m \u001b[43mpd\u001b[49m\u001b[38;5;241m.\u001b[39mread_csv(\u001b[38;5;124m\"\u001b[39m\u001b[38;5;124mbeton_files/test_data.csv\u001b[39m\u001b[38;5;124m\"\u001b[39m)\n\u001b[1;32m      2\u001b[0m test_indices \u001b[38;5;241m=\u001b[39m np\u001b[38;5;241m.\u001b[39marange(\u001b[38;5;241m0\u001b[39m, \u001b[38;5;28mlen\u001b[39m(test_df))\n\u001b[1;32m      4\u001b[0m test_data_loader \u001b[38;5;241m=\u001b[39m Loader(\u001b[38;5;124m\"\u001b[39m\u001b[38;5;124mbeton_files/test_data.beton\u001b[39m\u001b[38;5;124m\"\u001b[39m,\n\u001b[1;32m      5\u001b[0m                 batch_size\u001b[38;5;241m=\u001b[39m\u001b[38;5;241m1\u001b[39m,\n\u001b[1;32m      6\u001b[0m                 num_workers\u001b[38;5;241m=\u001b[39mos\u001b[38;5;241m.\u001b[39mcpu_count(),\n\u001b[0;32m   (...)\u001b[0m\n\u001b[1;32m     12\u001b[0m                 },\n\u001b[1;32m     13\u001b[0m                 batches_ahead\u001b[38;5;241m=\u001b[39m\u001b[38;5;241m10\u001b[39m)\n",
      "\u001b[0;31mNameError\u001b[0m: name 'pd' is not defined"
     ]
    }
   ],
   "source": [
    "test_df = pd.read_csv(\"beton_files/test_data.csv\")\n",
    "test_indices = np.arange(0, len(test_df))\n",
    "\n",
    "test_data_loader = Loader(\"beton_files/test_data.beton\",\n",
    "                batch_size=1,\n",
    "                num_workers=os.cpu_count(),\n",
    "                order=OrderOption.SEQUENTIAL,\n",
    "                pipelines={\n",
    "                  'images': [NDArrayDecoder(), ToTensor(), ToDevice(\"cuda\", non_blocking=True)],\n",
    "                  'patient_data': [NDArrayDecoder(), ToTensor(), ToDevice(\"cuda\", non_blocking=True)],\n",
    "                  'label': [BytesDecoder(), ToTensor(), ToDevice(\"cuda\", non_blocking=True)]\n",
    "                },\n",
    "                batches_ahead=10)"
   ]
  },
  {
   "cell_type": "code",
   "execution_count": null,
   "id": "58fb870c",
   "metadata": {},
   "outputs": [],
   "source": [
    "patient_idx_l = []\n",
    "patient_mi_l = []\n",
    "\n",
    "for idx, (images, _, label) in enumerate(test_data_loader):\n",
    "    patient_name = \"patient_\"+str(idx)\n",
    "    os.mkdir(\"test_dataset_img/\"+patient_name)\n",
    "    for i_artery, artery in enumerate([\"lad\", \"lcx\", \"rca\"]):\n",
    "        for i_view, view in enumerate([\"1\", \"2\"]):\n",
    "            img = images[0, i_artery, i_view, 0, :, :].cpu().numpy()\n",
    "            plt.imsave(\"test_dataset_img/\"+patient_name+\"/\"+artery+\"_\"+view+\".png\", img, cmap=\"gray\")\n",
    "    \n",
    "    patient_idx_l.append(idx)\n",
    "    patient_mi_l.append(label[0][-1].cpu().item())\n",
    "    "
   ]
  },
  {
   "cell_type": "code",
   "execution_count": 21,
   "id": "c6c91a41",
   "metadata": {},
   "outputs": [],
   "source": [
    "df_mi = pd.DataFrame({'idx': patient_idx_l, 'mi': patient_mi_l})"
   ]
  },
  {
   "cell_type": "code",
   "execution_count": 22,
   "id": "6d4122da",
   "metadata": {},
   "outputs": [],
   "source": [
    "df_mi.to_csv(\"test_dataset_img/df_mi.csv\")"
   ]
  },
  {
   "cell_type": "code",
   "execution_count": 23,
   "id": "0ad5f9e7",
   "metadata": {},
   "outputs": [
    {
     "data": {
      "text/html": [
       "<div>\n",
       "<style scoped>\n",
       "    .dataframe tbody tr th:only-of-type {\n",
       "        vertical-align: middle;\n",
       "    }\n",
       "\n",
       "    .dataframe tbody tr th {\n",
       "        vertical-align: top;\n",
       "    }\n",
       "\n",
       "    .dataframe thead th {\n",
       "        text-align: right;\n",
       "    }\n",
       "</style>\n",
       "<table border=\"1\" class=\"dataframe\">\n",
       "  <thead>\n",
       "    <tr style=\"text-align: right;\">\n",
       "      <th></th>\n",
       "      <th>idx</th>\n",
       "      <th>mi</th>\n",
       "    </tr>\n",
       "  </thead>\n",
       "  <tbody>\n",
       "    <tr>\n",
       "      <th>21</th>\n",
       "      <td>21</td>\n",
       "      <td>1.0</td>\n",
       "    </tr>\n",
       "    <tr>\n",
       "      <th>35</th>\n",
       "      <td>35</td>\n",
       "      <td>1.0</td>\n",
       "    </tr>\n",
       "    <tr>\n",
       "      <th>43</th>\n",
       "      <td>43</td>\n",
       "      <td>1.0</td>\n",
       "    </tr>\n",
       "    <tr>\n",
       "      <th>44</th>\n",
       "      <td>44</td>\n",
       "      <td>1.0</td>\n",
       "    </tr>\n",
       "    <tr>\n",
       "      <th>58</th>\n",
       "      <td>58</td>\n",
       "      <td>1.0</td>\n",
       "    </tr>\n",
       "  </tbody>\n",
       "</table>\n",
       "</div>"
      ],
      "text/plain": [
       "    idx   mi\n",
       "21   21  1.0\n",
       "35   35  1.0\n",
       "43   43  1.0\n",
       "44   44  1.0\n",
       "58   58  1.0"
      ]
     },
     "execution_count": 23,
     "metadata": {},
     "output_type": "execute_result"
    }
   ],
   "source": [
    "df_mi[df_mi[\"mi\"]>0]"
   ]
  },
  {
   "cell_type": "code",
   "execution_count": 24,
   "id": "12cc2aa6",
   "metadata": {},
   "outputs": [
    {
     "data": {
      "text/plain": [
       "'patient30'"
      ]
     },
     "execution_count": 24,
     "metadata": {},
     "output_type": "execute_result"
    }
   ],
   "source": [
    "test_df.iloc[21].patient_name"
   ]
  },
  {
   "cell_type": "code",
   "execution_count": 25,
   "id": "19fdf07c",
   "metadata": {},
   "outputs": [
    {
     "data": {
      "text/plain": [
       "patient_sjid    546-157-601\n",
       "Name: patient30, dtype: object"
      ]
     },
     "execution_count": 25,
     "metadata": {},
     "output_type": "execute_result"
    }
   ],
   "source": [
    "df_sjid = pd.read_csv(\"../cnn_and_patient_approach/df_patient_names_to_sjid.csv\", index_col=0)\n",
    "df_sjid.loc['patient30']"
   ]
  },
  {
   "cell_type": "markdown",
   "id": "22b43a4e",
   "metadata": {},
   "source": [
    "## Look at the physician prediction"
   ]
  },
  {
   "cell_type": "code",
   "execution_count": 23,
   "id": "bce48f76",
   "metadata": {},
   "outputs": [],
   "source": [
    "medic_pred_df = pd.read_csv(\"../cnn_and_patient_approach/physician_prediction.csv\", index_col=0) #"
   ]
  },
  {
   "cell_type": "code",
   "execution_count": 24,
   "id": "73c0e787",
   "metadata": {
    "scrolled": false
   },
   "outputs": [
    {
     "data": {
      "text/html": [
       "<div>\n",
       "<style scoped>\n",
       "    .dataframe tbody tr th:only-of-type {\n",
       "        vertical-align: middle;\n",
       "    }\n",
       "\n",
       "    .dataframe tbody tr th {\n",
       "        vertical-align: top;\n",
       "    }\n",
       "\n",
       "    .dataframe thead th {\n",
       "        text-align: right;\n",
       "    }\n",
       "</style>\n",
       "<table border=\"1\" class=\"dataframe\">\n",
       "  <thead>\n",
       "    <tr style=\"text-align: right;\">\n",
       "      <th></th>\n",
       "      <th>MI (0/1)</th>\n",
       "    </tr>\n",
       "    <tr>\n",
       "      <th>Patient folder name</th>\n",
       "      <th></th>\n",
       "    </tr>\n",
       "  </thead>\n",
       "  <tbody>\n",
       "    <tr>\n",
       "      <th>patient_18</th>\n",
       "      <td>1</td>\n",
       "    </tr>\n",
       "    <tr>\n",
       "      <th>patient_7</th>\n",
       "      <td>1</td>\n",
       "    </tr>\n",
       "    <tr>\n",
       "      <th>patient_58</th>\n",
       "      <td>0</td>\n",
       "    </tr>\n",
       "  </tbody>\n",
       "</table>\n",
       "</div>"
      ],
      "text/plain": [
       "                     MI (0/1)\n",
       "Patient folder name          \n",
       "patient_18                  1\n",
       "patient_7                   1\n",
       "patient_58                  0"
      ]
     },
     "execution_count": 24,
     "metadata": {},
     "output_type": "execute_result"
    }
   ],
   "source": [
    "medic_pred_df.sample(3)"
   ]
  },
  {
   "cell_type": "code",
   "execution_count": 25,
   "id": "679a5c32",
   "metadata": {},
   "outputs": [],
   "source": [
    "true_labels_df = pd.read_csv(\"../cnn_and_patient_approach/test_dataset_img/df_mi.csv\", index_col=0)\n",
    "true_labels_df[\"idx\"] = \"patient_\"+ true_labels_df[\"idx\"].astype(str)\n",
    "true_labels_df = true_labels_df.set_index(\"idx\")"
   ]
  },
  {
   "cell_type": "code",
   "execution_count": 26,
   "id": "3e76b521",
   "metadata": {},
   "outputs": [
    {
     "data": {
      "text/html": [
       "<div>\n",
       "<style scoped>\n",
       "    .dataframe tbody tr th:only-of-type {\n",
       "        vertical-align: middle;\n",
       "    }\n",
       "\n",
       "    .dataframe tbody tr th {\n",
       "        vertical-align: top;\n",
       "    }\n",
       "\n",
       "    .dataframe thead th {\n",
       "        text-align: right;\n",
       "    }\n",
       "</style>\n",
       "<table border=\"1\" class=\"dataframe\">\n",
       "  <thead>\n",
       "    <tr style=\"text-align: right;\">\n",
       "      <th></th>\n",
       "      <th>mi</th>\n",
       "    </tr>\n",
       "    <tr>\n",
       "      <th>idx</th>\n",
       "      <th></th>\n",
       "    </tr>\n",
       "  </thead>\n",
       "  <tbody>\n",
       "    <tr>\n",
       "      <th>patient_38</th>\n",
       "      <td>0.0</td>\n",
       "    </tr>\n",
       "    <tr>\n",
       "      <th>patient_74</th>\n",
       "      <td>0.0</td>\n",
       "    </tr>\n",
       "    <tr>\n",
       "      <th>patient_40</th>\n",
       "      <td>0.0</td>\n",
       "    </tr>\n",
       "  </tbody>\n",
       "</table>\n",
       "</div>"
      ],
      "text/plain": [
       "             mi\n",
       "idx            \n",
       "patient_38  0.0\n",
       "patient_74  0.0\n",
       "patient_40  0.0"
      ]
     },
     "execution_count": 26,
     "metadata": {},
     "output_type": "execute_result"
    }
   ],
   "source": [
    "true_labels_df.sample(3)"
   ]
  },
  {
   "cell_type": "code",
   "execution_count": 27,
   "id": "d5769e04",
   "metadata": {},
   "outputs": [],
   "source": [
    "merged = pd.merge(medic_pred_df, true_labels_df, left_index=True, right_index=True)"
   ]
  },
  {
   "cell_type": "code",
   "execution_count": 28,
   "id": "1c309764",
   "metadata": {},
   "outputs": [],
   "source": [
    "merged = merged.rename(columns={\"MI (0/1)\": \"Medic Pred MI\", \"mi\": \"True MI\"})"
   ]
  },
  {
   "cell_type": "code",
   "execution_count": 29,
   "id": "3c96ec80",
   "metadata": {
    "scrolled": true
   },
   "outputs": [
    {
     "data": {
      "text/html": [
       "<div>\n",
       "<style scoped>\n",
       "    .dataframe tbody tr th:only-of-type {\n",
       "        vertical-align: middle;\n",
       "    }\n",
       "\n",
       "    .dataframe tbody tr th {\n",
       "        vertical-align: top;\n",
       "    }\n",
       "\n",
       "    .dataframe thead th {\n",
       "        text-align: right;\n",
       "    }\n",
       "</style>\n",
       "<table border=\"1\" class=\"dataframe\">\n",
       "  <thead>\n",
       "    <tr style=\"text-align: right;\">\n",
       "      <th></th>\n",
       "      <th>Medic Pred MI</th>\n",
       "      <th>True MI</th>\n",
       "    </tr>\n",
       "  </thead>\n",
       "  <tbody>\n",
       "    <tr>\n",
       "      <th>patient_4</th>\n",
       "      <td>1</td>\n",
       "      <td>0.0</td>\n",
       "    </tr>\n",
       "    <tr>\n",
       "      <th>patient_74</th>\n",
       "      <td>1</td>\n",
       "      <td>0.0</td>\n",
       "    </tr>\n",
       "    <tr>\n",
       "      <th>patient_82</th>\n",
       "      <td>1</td>\n",
       "      <td>0.0</td>\n",
       "    </tr>\n",
       "  </tbody>\n",
       "</table>\n",
       "</div>"
      ],
      "text/plain": [
       "            Medic Pred MI  True MI\n",
       "patient_4               1      0.0\n",
       "patient_74              1      0.0\n",
       "patient_82              1      0.0"
      ]
     },
     "execution_count": 29,
     "metadata": {},
     "output_type": "execute_result"
    }
   ],
   "source": [
    "merged.sample(3)"
   ]
  },
  {
   "cell_type": "code",
   "execution_count": 30,
   "id": "c4ae4282",
   "metadata": {},
   "outputs": [
    {
     "data": {
      "text/html": [
       "<div>\n",
       "<style scoped>\n",
       "    .dataframe tbody tr th:only-of-type {\n",
       "        vertical-align: middle;\n",
       "    }\n",
       "\n",
       "    .dataframe tbody tr th {\n",
       "        vertical-align: top;\n",
       "    }\n",
       "\n",
       "    .dataframe thead th {\n",
       "        text-align: right;\n",
       "    }\n",
       "</style>\n",
       "<table border=\"1\" class=\"dataframe\">\n",
       "  <thead>\n",
       "    <tr style=\"text-align: right;\">\n",
       "      <th></th>\n",
       "      <th>Medic Pred MI</th>\n",
       "      <th>True MI</th>\n",
       "    </tr>\n",
       "  </thead>\n",
       "  <tbody>\n",
       "    <tr>\n",
       "      <th>patient_21</th>\n",
       "      <td>1</td>\n",
       "      <td>1.0</td>\n",
       "    </tr>\n",
       "    <tr>\n",
       "      <th>patient_35</th>\n",
       "      <td>1</td>\n",
       "      <td>1.0</td>\n",
       "    </tr>\n",
       "    <tr>\n",
       "      <th>patient_43</th>\n",
       "      <td>0</td>\n",
       "      <td>1.0</td>\n",
       "    </tr>\n",
       "    <tr>\n",
       "      <th>patient_44</th>\n",
       "      <td>0</td>\n",
       "      <td>1.0</td>\n",
       "    </tr>\n",
       "    <tr>\n",
       "      <th>patient_58</th>\n",
       "      <td>0</td>\n",
       "      <td>1.0</td>\n",
       "    </tr>\n",
       "  </tbody>\n",
       "</table>\n",
       "</div>"
      ],
      "text/plain": [
       "            Medic Pred MI  True MI\n",
       "patient_21              1      1.0\n",
       "patient_35              1      1.0\n",
       "patient_43              0      1.0\n",
       "patient_44              0      1.0\n",
       "patient_58              0      1.0"
      ]
     },
     "execution_count": 30,
     "metadata": {},
     "output_type": "execute_result"
    }
   ],
   "source": [
    "merged[merged[\"True MI\"]==1]"
   ]
  },
  {
   "cell_type": "code",
   "execution_count": 31,
   "id": "63dfbbc0",
   "metadata": {},
   "outputs": [],
   "source": [
    "# remove some patients indicated by the doctor\n",
    "merged = merged.drop(index=[\"patient_34\", \"patient_78\", \"patient_79\"])"
   ]
  },
  {
   "cell_type": "code",
   "execution_count": 32,
   "id": "5eeaab5f",
   "metadata": {},
   "outputs": [
    {
     "data": {
      "text/plain": [
       "0.449438202247191"
      ]
     },
     "execution_count": 32,
     "metadata": {},
     "output_type": "execute_result"
    }
   ],
   "source": [
    "# percentage of true from doctor\n",
    "medic_pred_df[\"MI (0/1)\"].sum()/len(medic_pred_df[\"MI (0/1)\"])"
   ]
  },
  {
   "cell_type": "code",
   "execution_count": 33,
   "id": "f3a46f49",
   "metadata": {},
   "outputs": [
    {
     "data": {
      "text/plain": [
       "0.05813953488372093"
      ]
     },
     "execution_count": 33,
     "metadata": {},
     "output_type": "execute_result"
    }
   ],
   "source": [
    "# true percentage of true \n",
    "merged[\"True MI\"].sum()/len(merged[\"True MI\"])"
   ]
  },
  {
   "cell_type": "code",
   "execution_count": 34,
   "id": "b2f26601",
   "metadata": {},
   "outputs": [
    {
     "data": {
      "text/plain": [
       "0.09523809523809523"
      ]
     },
     "execution_count": 34,
     "metadata": {},
     "output_type": "execute_result"
    }
   ],
   "source": [
    "f1_score(merged[\"True MI\"], merged[\"Medic Pred MI\"])"
   ]
  },
  {
   "cell_type": "code",
   "execution_count": 35,
   "id": "e24bba95",
   "metadata": {},
   "outputs": [
    {
     "data": {
      "text/plain": [
       "0.4"
      ]
     },
     "execution_count": 35,
     "metadata": {},
     "output_type": "execute_result"
    }
   ],
   "source": [
    "recall_score(merged[\"True MI\"], merged[\"Medic Pred MI\"])"
   ]
  },
  {
   "cell_type": "code",
   "execution_count": 36,
   "id": "0405752d",
   "metadata": {},
   "outputs": [
    {
     "data": {
      "text/plain": [
       "0.05405405405405406"
      ]
     },
     "execution_count": 36,
     "metadata": {},
     "output_type": "execute_result"
    }
   ],
   "source": [
    "precision_score(merged[\"True MI\"], merged[\"Medic Pred MI\"])"
   ]
  },
  {
   "cell_type": "code",
   "execution_count": 37,
   "id": "42180e97",
   "metadata": {},
   "outputs": [
    {
     "data": {
      "text/plain": [
       "0.48395061728395067"
      ]
     },
     "execution_count": 37,
     "metadata": {},
     "output_type": "execute_result"
    }
   ],
   "source": [
    "roc_auc_score(merged[\"True MI\"], merged[\"Medic Pred MI\"])"
   ]
  },
  {
   "cell_type": "code",
   "execution_count": 38,
   "id": "57ab5c48",
   "metadata": {},
   "outputs": [
    {
     "data": {
      "text/plain": [
       "0.5679012345679012"
      ]
     },
     "execution_count": 38,
     "metadata": {},
     "output_type": "execute_result"
    }
   ],
   "source": [
    "# specificty\n",
    "recall_score(merged[\"True MI\"], merged[\"Medic Pred MI\"], pos_label=0)"
   ]
  },
  {
   "cell_type": "markdown",
   "id": "73a7fe2d",
   "metadata": {},
   "source": [
    "## Random MI predictor"
   ]
  },
  {
   "cell_type": "code",
   "execution_count": 39,
   "id": "e47a17d7",
   "metadata": {},
   "outputs": [],
   "source": [
    "nb = len(merged)\n",
    "nb_mi = merged[\"True MI\"].sum()\n",
    "nb_non_mi = nb - nb_mi\n",
    "perc_mi = merged[\"True MI\"].sum()/len(merged)"
   ]
  },
  {
   "cell_type": "code",
   "execution_count": 54,
   "id": "8067579a",
   "metadata": {},
   "outputs": [],
   "source": [
    "true_pos = nb_mi*perc_mi\n",
    "false_pos = nb_non_mi*perc_mi\n",
    "true_neg = nb_non_mi*(1-perc_mi)\n",
    "false_neg = nb_mi*(1-perc_mi)"
   ]
  },
  {
   "cell_type": "code",
   "execution_count": 55,
   "id": "69ef5394",
   "metadata": {
    "scrolled": true
   },
   "outputs": [
    {
     "data": {
      "text/plain": [
       "0.058139534883720936"
      ]
     },
     "execution_count": 55,
     "metadata": {},
     "output_type": "execute_result"
    }
   ],
   "source": [
    "# f1 score\n",
    "true_pos/(true_pos + 0.5*(false_pos+false_neg))"
   ]
  },
  {
   "cell_type": "code",
   "execution_count": 56,
   "id": "3c008e27",
   "metadata": {},
   "outputs": [
    {
     "data": {
      "text/plain": [
       "0.058139534883720936"
      ]
     },
     "execution_count": 56,
     "metadata": {},
     "output_type": "execute_result"
    }
   ],
   "source": [
    "# recall\n",
    "true_pos/(true_pos+false_neg)"
   ]
  },
  {
   "cell_type": "code",
   "execution_count": 57,
   "id": "afdeac51",
   "metadata": {},
   "outputs": [
    {
     "data": {
      "text/plain": [
       "0.058139534883720936"
      ]
     },
     "execution_count": 57,
     "metadata": {},
     "output_type": "execute_result"
    }
   ],
   "source": [
    "# precision\n",
    "true_pos/(true_pos+false_pos)"
   ]
  },
  {
   "cell_type": "code",
   "execution_count": 58,
   "id": "98b7ec5e",
   "metadata": {},
   "outputs": [
    {
     "data": {
      "text/plain": [
       "0.5"
      ]
     },
     "execution_count": 58,
     "metadata": {},
     "output_type": "execute_result"
    }
   ],
   "source": [
    "# auc_roc\n",
    "true_pos/(2*(true_pos+false_neg)) + true_neg/(2*(false_pos+true_neg))"
   ]
  },
  {
   "cell_type": "code",
   "execution_count": 59,
   "id": "7b7c7166",
   "metadata": {},
   "outputs": [
    {
     "data": {
      "text/plain": [
       "0.9418604651162791"
      ]
     },
     "execution_count": 59,
     "metadata": {},
     "output_type": "execute_result"
    }
   ],
   "source": [
    "# specificty\n",
    "true_neg/(true_neg+false_pos)"
   ]
  },
  {
   "cell_type": "markdown",
   "id": "569413aa",
   "metadata": {},
   "source": [
    "## Check the perf of the CNN"
   ]
  },
  {
   "cell_type": "code",
   "execution_count": 57,
   "id": "24a6a4d2",
   "metadata": {},
   "outputs": [],
   "source": [
    "import os\n",
    "import pandas as pd\n",
    "\n",
    "import torch\n",
    "\n",
    "from ffcv.loader import OrderOption\n",
    "from ffcv.loader import Loader\n",
    "from ffcv.fields.decoders import BytesDecoder, NDArrayDecoder\n",
    "from ffcv.transforms import ToTensor, ToDevice\n",
    "\n",
    "from datasets import NormalisePatientDate\n",
    "from network import MiPredArteryLevel_Or_with_patient"
   ]
  },
  {
   "cell_type": "code",
   "execution_count": 58,
   "id": "5ac57552",
   "metadata": {},
   "outputs": [],
   "source": [
    "def load_state_dict_pretrained_to_net(self, state_dict):\n",
    "    # from https://discuss.pytorch.org/t/how-to-load-part-of-pre-trained-model/1113\n",
    " \n",
    "    own_state = self.state_dict()\n",
    "    for name, param in state_dict.items():\n",
    "        if name not in own_state:\n",
    "             continue\n",
    "        if isinstance(param, torch.nn.parameter.Parameter):\n",
    "            # backwards compatibility for serialized parameters\n",
    "            param = param.data\n",
    "        try:\n",
    "            own_state[name].copy_(param)\n",
    "        except RuntimeError as e:\n",
    "            print(\"State dict {} from pretrained cannot be loaded into new network (network.py).\\nError: {}\".format(name, e))"
   ]
  },
  {
   "cell_type": "code",
   "execution_count": 66,
   "id": "b078ca0a",
   "metadata": {},
   "outputs": [
    {
     "name": "stderr",
     "output_type": "stream",
     "text": [
      "Using cache found in /home/jovyan/.cache/torch/hub/pytorch_vision_v0.10.0\n",
      "Using cache found in /home/jovyan/.cache/torch/hub/pytorch_vision_v0.10.0\n",
      "Using cache found in /home/jovyan/.cache/torch/hub/pytorch_vision_v0.10.0\n"
     ]
    }
   ],
   "source": [
    "train_configuration = {}\n",
    "train_configuration[\"dropout\"] = 0\n",
    "train_configuration[\"nb_neur_per_hidden_layer_patient\"] = [50,10]\n",
    "train_configuration[\"dropout_patient_net\"] = 0\n",
    "train_configuration[\"batch_norm_patient\"] = False\n",
    "train_configuration[\"batch_size\"] = 1\n",
    "\n",
    "net = MiPredArteryLevel_Or_with_patient(train_configuration)\n",
    "net = net.cuda()\n",
    "load_state_dict_pretrained_to_net(net, torch.load(\"saved_networks/cnn_and_pat_test/6_0.26666666666666666.pt\"))\n",
    "\n",
    "# 6_0.26666666666666666.pt 29_0.16000000000000003.pt"
   ]
  },
  {
   "cell_type": "code",
   "execution_count": 67,
   "id": "4e358a03",
   "metadata": {
    "scrolled": true
   },
   "outputs": [
    {
     "name": "stderr",
     "output_type": "stream",
     "text": [
      "Exception ignored in: <finalize object at 0x7f36045049a0; dead>\n",
      "Traceback (most recent call last):\n",
      "  File \"/opt/conda/envs/ffcv/lib/python3.9/weakref.py\", line 591, in __call__\n",
      "    return info.func(*info.args, **(info.kwargs or {}))\n",
      "  File \"/opt/conda/envs/ffcv/lib/python3.9/site-packages/numba/core/dispatcher.py\", line 312, in finalizer\n",
      "    for cres in overloads.values():\n",
      "KeyError: (array(uint8, 1d, C), array(uint8, 1d, C))\n",
      "Exception ignored in: <finalize object at 0x7f3604504620; dead>\n",
      "Traceback (most recent call last):\n",
      "  File \"/opt/conda/envs/ffcv/lib/python3.9/weakref.py\", line 591, in __call__\n",
      "    return info.func(*info.args, **(info.kwargs or {}))\n",
      "  File \"/opt/conda/envs/ffcv/lib/python3.9/site-packages/numba/core/dispatcher.py\", line 312, in finalizer\n",
      "    for cres in overloads.values():\n",
      "KeyError: (array(uint8, 1d, C), array(uint8, 1d, C))\n"
     ]
    },
    {
     "name": "stdout",
     "output_type": "stream",
     "text": [
      "0\n",
      "1\n",
      "2\n",
      "3\n",
      "4\n",
      "5\n",
      "6\n",
      "7\n",
      "8\n",
      "9\n",
      "10\n",
      "11\n",
      "12\n",
      "13\n",
      "14\n",
      "15\n",
      "16\n",
      "17\n",
      "18\n",
      "19\n",
      "20\n",
      "21\n",
      "22\n",
      "23\n",
      "24\n",
      "25\n",
      "26\n",
      "27\n",
      "28\n",
      "29\n",
      "30\n",
      "31\n",
      "32\n",
      "33\n",
      "34\n",
      "35\n",
      "36\n",
      "37\n",
      "38\n",
      "39\n",
      "40\n",
      "41\n",
      "42\n",
      "43\n",
      "44\n",
      "45\n",
      "46\n",
      "47\n",
      "48\n",
      "49\n",
      "50\n",
      "51\n",
      "52\n",
      "53\n",
      "54\n",
      "55\n",
      "56\n",
      "57\n",
      "58\n",
      "59\n",
      "60\n",
      "61\n",
      "62\n",
      "63\n",
      "64\n",
      "65\n",
      "66\n",
      "67\n",
      "68\n",
      "69\n",
      "70\n",
      "71\n",
      "72\n",
      "73\n",
      "74\n",
      "75\n",
      "76\n",
      "77\n",
      "78\n",
      "79\n",
      "80\n",
      "81\n",
      "82\n",
      "83\n",
      "84\n",
      "85\n",
      "86\n",
      "87\n",
      "88\n"
     ]
    }
   ],
   "source": [
    "data_loader = Loader(\"beton_files/test_data.beton\",\n",
    "    batch_size=1,\n",
    "    num_workers=os.cpu_count(),\n",
    "    order=OrderOption.SEQUENTIAL,\n",
    "    pipelines={\n",
    "      'images': [NDArrayDecoder(), ToTensor(), ToDevice(\"cuda\", non_blocking=True)],\n",
    "      'patient_data': [NDArrayDecoder(), ToTensor(), NormalisePatientDate(True), ToDevice(\"cuda\", non_blocking=True)],\n",
    "      'label': [BytesDecoder(), ToTensor(), ToDevice(\"cuda\", non_blocking=True)]\n",
    "    },    \n",
    "    batches_ahead=10,\n",
    "    recompile=True\n",
    ")\n",
    "\n",
    "# df_ffcv = pd.read_csv(\"beton_files/test_data.csv\")\n",
    "# df_to_sjid = pd.read_csv(\"df_patient_names_to_sjid.csv\")\n",
    "# df_to_sjid[\"patient_name\"] = df_to_sjid[\"patient_name\"].str[7:].astype(int)\n",
    "# df_to_sjid = df_to_sjid.set_index([\"patient_name\"])\n",
    "\n",
    "label_l = []\n",
    "pred_l = []\n",
    "\n",
    "for idx, (data, patient_data, target) in enumerate(data_loader):\n",
    "    print(idx)\n",
    "    if idx != 34 and idx != 78 and idx != 79: # remove patient not considered by doctor\n",
    "        # patient_true_idx = df_ffcv.iloc[idx]\n",
    "        # patient_true_idx = int(patient_true_idx[\"patient_name\"][7:])\n",
    "        # sjid = df_to_sjid.loc[patient_true_idx].values\n",
    "    \n",
    "        data, patient_data = data.cuda(), patient_data.cuda()\n",
    "        pred = net(data, patient_data)\n",
    "    \n",
    "        label_l.append(target[0][-1])\n",
    "        pred_l.append((pred[0][0]>0.5).cpu().numpy()[0])\n",
    "        \n",
    "        del data, patient_data\n",
    "        "
   ]
  },
  {
   "cell_type": "markdown",
   "id": "eba3f6a1",
   "metadata": {},
   "source": [
    "### For best epoch"
   ]
  },
  {
   "cell_type": "code",
   "execution_count": 68,
   "id": "5c2e0a81",
   "metadata": {},
   "outputs": [
    {
     "data": {
      "text/plain": [
       "0.1818181818181818"
      ]
     },
     "execution_count": 68,
     "metadata": {},
     "output_type": "execute_result"
    }
   ],
   "source": [
    "f1_score(merged[\"True MI\"], pred_l)"
   ]
  },
  {
   "cell_type": "code",
   "execution_count": 69,
   "id": "fd01dd58",
   "metadata": {},
   "outputs": [
    {
     "data": {
      "text/plain": [
       "0.2"
      ]
     },
     "execution_count": 69,
     "metadata": {},
     "output_type": "execute_result"
    }
   ],
   "source": [
    "recall_score(merged[\"True MI\"], pred_l)"
   ]
  },
  {
   "cell_type": "code",
   "execution_count": 70,
   "id": "3c892139",
   "metadata": {},
   "outputs": [
    {
     "data": {
      "text/plain": [
       "0.16666666666666666"
      ]
     },
     "execution_count": 70,
     "metadata": {},
     "output_type": "execute_result"
    }
   ],
   "source": [
    "precision_score(merged[\"True MI\"], pred_l)"
   ]
  },
  {
   "cell_type": "code",
   "execution_count": 71,
   "id": "92fe0d13",
   "metadata": {},
   "outputs": [
    {
     "data": {
      "text/plain": [
       "0.5691358024691358"
      ]
     },
     "execution_count": 71,
     "metadata": {},
     "output_type": "execute_result"
    }
   ],
   "source": [
    "roc_auc_score(merged[\"True MI\"], pred_l)"
   ]
  },
  {
   "cell_type": "code",
   "execution_count": 72,
   "id": "d61fa590",
   "metadata": {},
   "outputs": [
    {
     "data": {
      "text/plain": [
       "0.9382716049382716"
      ]
     },
     "execution_count": 72,
     "metadata": {},
     "output_type": "execute_result"
    }
   ],
   "source": [
    "# specificity\n",
    "recall_score(merged[\"True MI\"], pred_l, pos_label=0)"
   ]
  },
  {
   "cell_type": "markdown",
   "id": "b8399bc7",
   "metadata": {},
   "source": [
    "### For last epoch"
   ]
  },
  {
   "cell_type": "code",
   "execution_count": 61,
   "id": "d347a524",
   "metadata": {},
   "outputs": [
    {
     "data": {
      "text/plain": [
       "0.16666666666666666"
      ]
     },
     "execution_count": 61,
     "metadata": {},
     "output_type": "execute_result"
    }
   ],
   "source": [
    "f1_score(merged[\"True MI\"], pred_l)"
   ]
  },
  {
   "cell_type": "code",
   "execution_count": 62,
   "id": "c85f6ce9",
   "metadata": {},
   "outputs": [
    {
     "data": {
      "text/plain": [
       "0.6"
      ]
     },
     "execution_count": 62,
     "metadata": {},
     "output_type": "execute_result"
    }
   ],
   "source": [
    "recall_score(merged[\"True MI\"], pred_l)"
   ]
  },
  {
   "cell_type": "code",
   "execution_count": 63,
   "id": "e3b229af",
   "metadata": {},
   "outputs": [
    {
     "data": {
      "text/plain": [
       "0.0967741935483871"
      ]
     },
     "execution_count": 63,
     "metadata": {},
     "output_type": "execute_result"
    }
   ],
   "source": [
    "precision_score(merged[\"True MI\"], pred_l)"
   ]
  },
  {
   "cell_type": "code",
   "execution_count": 64,
   "id": "4b1d81ea",
   "metadata": {},
   "outputs": [
    {
     "data": {
      "text/plain": [
       "0.6271604938271605"
      ]
     },
     "execution_count": 64,
     "metadata": {},
     "output_type": "execute_result"
    }
   ],
   "source": [
    "roc_auc_score(merged[\"True MI\"], pred_l)"
   ]
  },
  {
   "cell_type": "code",
   "execution_count": 65,
   "id": "3e5239cf",
   "metadata": {},
   "outputs": [
    {
     "data": {
      "text/plain": [
       "0.654320987654321"
      ]
     },
     "execution_count": 65,
     "metadata": {},
     "output_type": "execute_result"
    }
   ],
   "source": [
    "# specificity\n",
    "recall_score(merged[\"True MI\"], pred_l, pos_label=0)"
   ]
  },
  {
   "cell_type": "markdown",
   "id": "26b80f1a",
   "metadata": {},
   "source": [
    "## Check the perfo of the transformer"
   ]
  },
  {
   "cell_type": "code",
   "execution_count": 1,
   "id": "5b630ae8",
   "metadata": {},
   "outputs": [
    {
     "name": "stderr",
     "output_type": "stream",
     "text": [
      "/opt/conda/envs/ffcv/lib/python3.9/site-packages/tqdm/auto.py:22: TqdmWarning: IProgress not found. Please update jupyter and ipywidgets. See https://ipywidgets.readthedocs.io/en/stable/user_install.html\n",
      "  from .autonotebook import tqdm as notebook_tqdm\n"
     ]
    }
   ],
   "source": [
    "from networks_implementation.transfo_and_pat_softmax_net import PatientLevelDNN_PatientDataSoftmax\n",
    "import torch\n",
    "from datasets_implementation.transfo_datasets import get_data_loaders\n",
    "from init_net import init_net"
   ]
  },
  {
   "cell_type": "code",
   "execution_count": 2,
   "id": "82367a4b",
   "metadata": {},
   "outputs": [],
   "source": [
    "train_config = {\n",
    "# General\n",
    "    # General\n",
    "    \"seed\": 42, # seed to use to enforce the training-testing set separation\n",
    "    \"nb_cv\": None, # if not using cross validation -> None, else specify the number of cross validation to use\n",
    "    \"save_best_net\": True, # if true will save at each new F1_valid best score and at the end\n",
    "    \"load_network\": None, # path to the network\n",
    "    \n",
    "    # Network structure\n",
    "    \"network_class\": PatientLevelDNN_PatientDataSoftmax, # pytorch class to construct the network\n",
    "    \"dropout\": 0.0 , # dropout for the main network\n",
    "    \"weights_init\": \"Xavier Uniform\", # \"Xavier Uniform\", \"Xavier Normal\", \"Kaiming Uniform\" and \"Kaiming Normal\"\n",
    "    \n",
    "    # Transformer specific parameters\n",
    "    \"patch_size_l\" : [64, 64, 64, 64], # list of the size of the patch extract for each kind of box (! for the network, size has to be same for all)\n",
    "    \"nb_patch_l\": [32, 64, 128, 128], # list of the number of patches to extract for each kind of box (values can be different)\n",
    "    \n",
    "    # Patient network specific parameters (! also if patient network used inside of another network !)\n",
    "    \"dropout_patient_net\": 0.0, # dropout for the patient network\n",
    "    \"nb_neur_per_hidden_layer_patient\": [50, 10], # list with the number of neurons for each hidden layer\n",
    "    \"batch_norm_patient\": False, # True or False\n",
    "    \"weights_init_patient\": \"Kaiming Uniform\", # \"Std\", \"Xavier Uniform\", \"Xavier Normal\", \"Kaiming Uniform\" and \"Kaiming Normal\"\n",
    "    \n",
    "    # Dataset information\n",
    "    \"dataset_type\": \"transformer_patient\", # \"CNN\", \"transformer\", \"CNN_patient\" and \"transformer_patient\"\n",
    "    \"balance_method\": \"oversample\", # \"no\", \"oversample\" and \"undersample\"\n",
    "    \"train_test_ratio\": 0.2, # ratio to use in testing vs in training (also in validation vs in training)\n",
    "    \"test\": True, # False: remove test data and then separate train and valid. True: separate test and train (impossible to use CV)\n",
    "    \"normalise\": False, # True or False (on images)\n",
    "    \"gaussian_blur\": None, # probability \n",
    "    \"random_rotation\": 0.1, # probability\n",
    "    \"random_crop\": 0.1, # probability\n",
    "    # \"random_color_modifs\": 0.2, # for CNN, probability\n",
    "    \"patch_randomness\": 0.1, # for transformers, probability to NOT take a sample on centerline\n",
    "    \"normalise_patient\": True, # for patient network, normalise or not the data, True or False\n",
    "    \n",
    "    # Define training\n",
    "    \"n_epochs\": 50, \n",
    "    \"batch_size\": 4, \n",
    "    \"change_strategy_epoch_l\": [-1], # list indicating at which epoch change the optimizer, loss and lr, start with -1 for the first one\n",
    "    \n",
    "    # Define the optimiser\n",
    "    \"optimizer_l\": [\"SGD\"], # list of optimizer to use, \"SGD\", \"Adam\", \"PESG\", \"PDSCA\"\n",
    "    \"weight_decay\": 0.00634788540665404,\n",
    "    \"lr_l\": [0.0004493489445028419], # list of the lr\n",
    "    \"SGD_momentum\": 0.6566222749612993 , # HP of the SGD\n",
    "    # \"PESG_gamma\": None, # HP of the PSEG\n",
    "    # \"PESG_margin\": None, # HP of the PSEG\n",
    "    # \"PESG_imratio\": None, # HP of the PSEG\n",
    "    # \"Compo_gamma\": None, # HP of the PDSCA\n",
    "    # \"Compo_margin\": None, # HP of the PDSCA\n",
    "    # \"Compo_imratio\": None, # HP of the PDSCA\n",
    "    # \"Compo_beta1\": None, # HP of the PDSCA\n",
    "    # \"Compo_beta2\": None, # HP of the PDSCA\n",
    "    \n",
    "    # Define the scheduler\n",
    "    \"scheduler_patience\": 5, # nb of epochs without improvement before reducing lr\n",
    "    \"scheduler_factor\": 0.1, # how much to reduce the lr when plateau (lr*=scheduler_factor)\n",
    "    \n",
    "    # Define the loss\n",
    "    \"criterion_l\": [\"BCE\"], # list of optimizer to use, \"BCE\", \"AUC\", \"Focal\"\n",
    "    \"siamese_pred_loss_ratio\": 7.399590987258929e-05, # ratio btw artery MI prediction and global MI prediction losses\n",
    "    \"arteries_pred_loss_ratio\": 0.2071422613609661, # ratio btw siamese loss and global MI predicition losses\n",
    "    \"patient_data_loss_ratio\": 0.09457471894183037, # ratio btw patient data prediction loss and global MI predicition losses\n",
    "    # \"focal_alpha\": None, # HP of the focal loss\n",
    "    # \"focal_gamma\": None, # HP of the focal loss\n",
    "    # \"focal_reduction\": None, # HP of the focal loss\n",
    "}"
   ]
  },
  {
   "cell_type": "code",
   "execution_count": 14,
   "id": "4a752270",
   "metadata": {},
   "outputs": [
    {
     "name": "stdout",
     "output_type": "stream",
     "text": [
      "Nb of parameters is 25272638\n"
     ]
    },
    {
     "data": {
      "text/plain": [
       "<All keys matched successfully>"
      ]
     },
     "execution_count": 14,
     "metadata": {},
     "output_type": "execute_result"
    }
   ],
   "source": [
    "net, criterion, scheduler, optimizer = init_net(train_config)\n",
    "net = net.cuda()\n",
    "net.load_state_dict(torch.load(\"saved_networks/transfo_and_pat_test/49_0.3157894736842105.pt\")) # 16_0.41379310344827586.pt"
   ]
  },
  {
   "cell_type": "code",
   "execution_count": 15,
   "id": "09016c05",
   "metadata": {},
   "outputs": [
    {
     "name": "stdout",
     "output_type": "stream",
     "text": [
      "Nb of elements in train_data_loader 372\n",
      "Nb of MI in train data 29\n",
      "Nb of elements in valid_data_loader 96\n",
      "Nb of MI in valid data 11\n"
     ]
    }
   ],
   "source": [
    "valid_data_loader, test_data_loader = get_data_loaders(train_config, None)"
   ]
  },
  {
   "cell_type": "code",
   "execution_count": 16,
   "id": "7c88677d",
   "metadata": {
    "scrolled": true
   },
   "outputs": [
    {
     "name": "stdout",
     "output_type": "stream",
     "text": [
      "[0.0, 0.0, 0.0, 0.0]\n",
      "[False, False, False, True]\n",
      "[0.0, 0.0, 1.0, 0.0]\n",
      "[False, False, True, False]\n",
      "[0.0, 0.0, 0.0, 0.0]\n",
      "[False, False, True, False]\n",
      "[1.0, 0.0, 0.0, 0.0]\n",
      "[True, False, False, False]\n",
      "[0.0, 0.0, 0.0, 0.0]\n",
      "[True, False, False, False]\n",
      "[0.0, 0.0, 0.0, 0.0]\n",
      "[False, False, False, False]\n",
      "[0.0, 0.0, 0.0, 0.0]\n",
      "[False, False, True, True]\n",
      "[0.0, 0.0, 0.0, 0.0]\n",
      "[False, True, False, False]\n",
      "[0.0, 0.0, 0.0, 0.0]\n",
      "[False, True, False, False]\n",
      "[0.0, 0.0, 0.0, 0.0]\n",
      "[False, False, False, False]\n",
      "[0.0, 0.0, 1.0, 0.0]\n",
      "[False, False, True, False]\n",
      "[0.0, 0.0, 0.0, 0.0]\n",
      "[False, True, False, False]\n",
      "[0.0, 0.0, 0.0, 0.0]\n",
      "[False, True, False, False]\n",
      "[0.0, 0.0, 0.0, 0.0]\n",
      "[True, False, False, False]\n",
      "[0.0, 1.0, 0.0, 0.0]\n",
      "[False, False, True, False]\n",
      "[1.0, 0.0, 0.0, 0.0]\n",
      "[False, False, False, False]\n",
      "[0.0, 1.0, 1.0, 0.0]\n",
      "[False, False, True, False]\n",
      "[0.0, 0.0, 0.0, 0.0]\n",
      "[False, False, True, False]\n",
      "[0.0, 1.0, 0.0, 0.0]\n",
      "[False, False, False, True]\n",
      "[0.0, 0.0, 0.0, 1.0]\n",
      "[True, False, False, False]\n",
      "[0.0, 0.0, 1.0, 0.0]\n",
      "[True, False, False, False]\n",
      "[1.0, 0.0, 0.0, 0.0]\n",
      "[False, True, False, True]\n",
      "[0.0, 0.0, 0.0, 0.0]\n",
      "[False, False, False, False]\n",
      "[0.0, 0.0]\n",
      "[True, True]\n"
     ]
    }
   ],
   "source": [
    "truth_l = []\n",
    "pred_l = []\n",
    "\n",
    "net = net.eval()\n",
    "\n",
    "for batch_idx, batch in enumerate(test_data_loader):\n",
    "    (data, patient_data, target, available_arteries) = batch \n",
    "    patient_data = patient_data.cuda()\n",
    "    data[0][0], data[0][1], data[1][0], data[1][1], data[2][0], data[2][1] = data[0][0].cuda(), data[0][1].cuda(), data[1][0].cuda(), data[1][1].cuda(), data[2][0].cuda(), data[2][1].cuda()\n",
    "    \n",
    "    mi_target = target[:, -1].cpu().tolist()\n",
    "    print(mi_target)\n",
    "    \n",
    "    pred = net(data, patient_data)\n",
    "    pred = (pred[0]>0.5).cpu().tolist()\n",
    "    try:\n",
    "        pred = [pred[0][0], pred[1][0], pred[2][0], pred[3][0]]\n",
    "    except:\n",
    "        pred = [pred[0][0], pred[1][0]]\n",
    "    print(pred)\n",
    "    \n",
    "    truth_l += mi_target\n",
    "    pred_l += pred\n",
    "    \n",
    "    del patient_data, data, target, available_arteries, batch, pred\n",
    "    torch.cuda.empty_cache()"
   ]
  },
  {
   "cell_type": "markdown",
   "id": "145e87ed",
   "metadata": {},
   "source": [
    "###  on best epoch"
   ]
  },
  {
   "cell_type": "code",
   "execution_count": 17,
   "id": "517a8955",
   "metadata": {},
   "outputs": [
    {
     "data": {
      "text/plain": [
       "0.2352941176470588"
      ]
     },
     "execution_count": 17,
     "metadata": {},
     "output_type": "execute_result"
    }
   ],
   "source": [
    "f1_score(truth_l, pred_l)"
   ]
  },
  {
   "cell_type": "code",
   "execution_count": 18,
   "id": "90706f78",
   "metadata": {},
   "outputs": [
    {
     "data": {
      "text/plain": [
       "0.36363636363636365"
      ]
     },
     "execution_count": 18,
     "metadata": {},
     "output_type": "execute_result"
    }
   ],
   "source": [
    "recall_score(truth_l, pred_l)"
   ]
  },
  {
   "cell_type": "code",
   "execution_count": 19,
   "id": "f4fb48c9",
   "metadata": {},
   "outputs": [
    {
     "data": {
      "text/plain": [
       "0.17391304347826086"
      ]
     },
     "execution_count": 19,
     "metadata": {},
     "output_type": "execute_result"
    }
   ],
   "source": [
    "precision_score(truth_l, pred_l)"
   ]
  },
  {
   "cell_type": "code",
   "execution_count": 20,
   "id": "faac5913",
   "metadata": {},
   "outputs": [
    {
     "data": {
      "text/plain": [
       "0.5673603504928807"
      ]
     },
     "execution_count": 20,
     "metadata": {},
     "output_type": "execute_result"
    }
   ],
   "source": [
    "roc_auc_score(truth_l, pred_l)"
   ]
  },
  {
   "cell_type": "code",
   "execution_count": 21,
   "id": "0a58f644",
   "metadata": {},
   "outputs": [
    {
     "data": {
      "text/plain": [
       "0.7710843373493976"
      ]
     },
     "execution_count": 21,
     "metadata": {},
     "output_type": "execute_result"
    }
   ],
   "source": [
    "# specificity\n",
    "recall_score(truth_l, pred_l, pos_label=0)"
   ]
  },
  {
   "cell_type": "markdown",
   "id": "91cbb47b",
   "metadata": {},
   "source": [
    "### on last epoch"
   ]
  },
  {
   "cell_type": "code",
   "execution_count": 9,
   "id": "165bf9b7",
   "metadata": {
    "scrolled": true
   },
   "outputs": [
    {
     "data": {
      "text/plain": [
       "0.411764705882353"
      ]
     },
     "execution_count": 9,
     "metadata": {},
     "output_type": "execute_result"
    }
   ],
   "source": [
    "f1_score(truth_l, pred_l)"
   ]
  },
  {
   "cell_type": "code",
   "execution_count": 10,
   "id": "e203ad03",
   "metadata": {},
   "outputs": [
    {
     "data": {
      "text/plain": [
       "0.6363636363636364"
      ]
     },
     "execution_count": 10,
     "metadata": {},
     "output_type": "execute_result"
    }
   ],
   "source": [
    "recall_score(truth_l, pred_l)"
   ]
  },
  {
   "cell_type": "code",
   "execution_count": 11,
   "id": "77b6bcc0",
   "metadata": {},
   "outputs": [
    {
     "data": {
      "text/plain": [
       "0.30434782608695654"
      ]
     },
     "execution_count": 11,
     "metadata": {},
     "output_type": "execute_result"
    }
   ],
   "source": [
    "precision_score(truth_l, pred_l)"
   ]
  },
  {
   "cell_type": "code",
   "execution_count": 12,
   "id": "3117bc23",
   "metadata": {},
   "outputs": [
    {
     "data": {
      "text/plain": [
       "0.7217962760131434"
      ]
     },
     "execution_count": 12,
     "metadata": {},
     "output_type": "execute_result"
    }
   ],
   "source": [
    "roc_auc_score(truth_l, pred_l)"
   ]
  },
  {
   "cell_type": "code",
   "execution_count": 13,
   "id": "ac1e960a",
   "metadata": {},
   "outputs": [
    {
     "data": {
      "text/plain": [
       "0.8072289156626506"
      ]
     },
     "execution_count": 13,
     "metadata": {},
     "output_type": "execute_result"
    }
   ],
   "source": [
    "# specificity\n",
    "recall_score(truth_l, pred_l, pos_label=0)"
   ]
  },
  {
   "cell_type": "markdown",
   "id": "28368e82",
   "metadata": {},
   "source": [
    "--------"
   ]
  }
 ],
 "metadata": {
  "kernelspec": {
   "display_name": "FFCV",
   "language": "python",
   "name": "myenv"
  },
  "language_info": {
   "codemirror_mode": {
    "name": "ipython",
    "version": 3
   },
   "file_extension": ".py",
   "mimetype": "text/x-python",
   "name": "python",
   "nbconvert_exporter": "python",
   "pygments_lexer": "ipython3",
   "version": "3.9.13"
  }
 },
 "nbformat": 4,
 "nbformat_minor": 5
}
